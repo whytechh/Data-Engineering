{
 "cells": [
  {
   "cell_type": "markdown",
   "metadata": {},
   "source": [
    "Задание 1. Общее задание."
   ]
  },
  {
   "cell_type": "code",
   "execution_count": 206,
   "metadata": {},
   "outputs": [],
   "source": [
    "from collections import Counter\n",
    "# Открываем и читаем файл\n",
    "with open('first_task.txt', 'r', encoding='utf-8') as file:\n",
    "    text = file.read()"
   ]
  },
  {
   "cell_type": "code",
   "execution_count": 208,
   "metadata": {},
   "outputs": [],
   "source": [
    "# Удаляем лишние символы из текста\n",
    "text = (\n",
    "    text.replace(',', '')\n",
    "        .replace('!', '')\n",
    "        .replace('.', '')\n",
    "        .replace('?', '')\n",
    "        .replace('\\n', ' ')\n",
    "        .lower()\n",
    ")\n",
    "\n",
    "# Получаем массив слов\n",
    "words = text.split()\n",
    "\n",
    "# Создаем словарь для подсчета частоты слов\n",
    "word_dict = {}\n",
    "\n",
    "# Используем Counter для подсчёта частот\n",
    "word_dict = Counter(words)\n",
    "\n",
    "# Сортируем полученный словарь по убыванию значения ключа\n",
    "word_dict = sorted(word_dict.items(), key = lambda x: x[1], reverse=True)\n",
    "\n",
    "# Сохраняем полученный словарь в отдельный txt файл\n",
    "with open('first_task_solve_1.txt', 'w', encoding='utf-8') as file:\n",
    "    for key, value in word_dict:\n",
    "        file.write(f'{key}: {value}\\n')"
   ]
  },
  {
   "cell_type": "markdown",
   "metadata": {},
   "source": [
    "Задание 1. Вариант 5."
   ]
  },
  {
   "cell_type": "code",
   "execution_count": 195,
   "metadata": {},
   "outputs": [],
   "source": [
    "chars = 'aeiouy'\n",
    "\n",
    "# Подсчет всех гласных букв\n",
    "chars_count = sum(1 for letters in text if letters in chars)\n",
    "\n",
    "# Подсчет всех букв в тексте\n",
    "letters_count = sum(1 for letters in text if letters.isalpha())\n",
    "\n",
    "# Подсчет доли гласных букв\n",
    "chars_ratio = (chars_count / letters_count) * 100\n",
    "\n",
    "with open('first_task_solve_2.txt', 'w', encoding='utf-8') as file:\n",
    "    file.write(f\"Количество гласных: {chars_count}\\nДоля гласных: {chars_ratio}\")"
   ]
  },
  {
   "cell_type": "markdown",
   "metadata": {},
   "source": [
    "Задание 2."
   ]
  },
  {
   "cell_type": "code",
   "execution_count": 480,
   "metadata": {},
   "outputs": [],
   "source": [
    "import math\n",
    "# Открываем и читаем файл\n",
    "with open('second_task.txt', 'r', encoding='utf-8') as file:\n",
    "    lines = file.readlines()"
   ]
  },
  {
   "cell_type": "code",
   "execution_count": 481,
   "metadata": {},
   "outputs": [],
   "source": [
    "table = []\n",
    "\n",
    "for line in lines:\n",
    "    nums = line.strip().split(' ')\n",
    "    table.append(list(map(int, nums)))\n",
    "\n",
    "row_sums = [\n",
    "    int(round(sum(math.sqrt(num) for num in row if num > 0), 0))\n",
    "    for row in table\n",
    "]\n",
    "\n",
    "minmax_sum = [max(row_sums), min(row_sums)]\n",
    "\n",
    "with open('second_task_solve.txt', 'w', encoding='utf-8') as file:\n",
    "    file.write('\\n'.join(map(str, row_sums)) + '\\n')\n",
    "    file.write('\\n'.join(map(str, minmax_sum)))\n",
    "\n",
    "\n",
    "\n"
   ]
  },
  {
   "cell_type": "markdown",
   "metadata": {},
   "source": [
    "Задание 3."
   ]
  },
  {
   "cell_type": "code",
   "execution_count": 541,
   "metadata": {},
   "outputs": [],
   "source": [
    "# Открываем и читаем файл\n",
    "with open('third_task111.txt', 'r', encoding='utf-8') as file:\n",
    "    rows = file.readlines()\n",
    "\n",
    "# Создаем список для суммы строк\n",
    "row_sums = []\n",
    "\n",
    "for row in rows:\n",
    "\n",
    "    # Проходимся по строкам и разбиваем числа на int/None\n",
    "    nums = [\n",
    "        int(num) if num != 'N/A' else None for num in row.strip().split(' ')\n",
    "    ]\n",
    "\n",
    "    # Заменяем None на среднее значение соседей\n",
    "    nums = [\n",
    "        (nums[i - 1] + nums[i + 1]) / 2 if nums[i] is None else nums[i]\n",
    "        for i in range(len(nums))\n",
    "    ]\n",
    "    \n",
    "    # Оставляем числа, кратные двум и положительны\n",
    "    multiple_nums = [num for num in nums if num % 2 == 0 and num > 0]\n",
    "\n",
    "    #Считаем суммы в каждой строке\n",
    "    row_sums.append(int((sum(multiple_nums)) / len(multiple_nums)))\n",
    "\n",
    "# Записываем результат в файл\n",
    "with open('third_task_solve111.txt', 'w', encoding='utf-8') as file:\n",
    "    file.write('\\n'.join(map(str, row_sums)))\n",
    "\n",
    "\n"
   ]
  },
  {
   "cell_type": "markdown",
   "metadata": {},
   "source": [
    "Задание 4."
   ]
  },
  {
   "cell_type": "code",
   "execution_count": 543,
   "metadata": {},
   "outputs": [],
   "source": [
    "import pandas as pd\n",
    "\n",
    "# Чтение файла\n",
    "data = pd.read_csv('fourth_task.txt')\n",
    "\n",
    "# Удаление колонки\n",
    "data_dropped = data.drop('status', axis=1)\n",
    "\n",
    "# Среднее арифметическое\n",
    "mean_value = data['quantity'].mean()\n",
    "\n",
    "# Максимум\n",
    "max_value = data['price'].max()\n",
    "\n",
    "# Минимум\n",
    "min_value = data['rating'].min()\n",
    "\n",
    "# Фильтрация\n",
    "data_filtered = data[data['status'] == 'Refunded']\n",
    "\n",
    "# Сохранение модифицированного csv-файла\n",
    "data_filtered.to_csv('fourth_task_solve.csv', index=False, header=True)\n",
    "\n",
    "# Сохранение результатов вычислений\n",
    "with open(\"fourth_task_solve.txt\", \"w\") as file:\n",
    "            file.write(f\"Среднее арифметическое по столбцу quantity: {mean_value}\\n\\\n",
    "Максимальное значение по столбцу price: {max_value}\\n\\\n",
    "Минимальное значение по стобцу rating: {min_value}\")"
   ]
  },
  {
   "cell_type": "markdown",
   "metadata": {},
   "source": [
    "Задание 5"
   ]
  },
  {
   "cell_type": "code",
   "execution_count": 545,
   "metadata": {},
   "outputs": [],
   "source": [
    "import pandas as pd\n",
    "\n",
    "# Чтение фрагмента, поиск таблиц\n",
    "chunk = pd.read_html('fifth_task.html', attrs={'id': 'product-table'}, encoding='utf-8')\n",
    "\n",
    "# Выбор первой таблицы\n",
    "table = chunk[0]\n",
    "\n",
    "# Сохранение в csv-файл\n",
    "table.to_csv('fifth_task_solve.csv', index=False, header=True)"
   ]
  },
  {
   "cell_type": "markdown",
   "metadata": {},
   "source": [
    "Задание 6"
   ]
  },
  {
   "cell_type": "code",
   "execution_count": 560,
   "metadata": {},
   "outputs": [],
   "source": [
    "import requests\n",
    "import pandas as pd\n",
    "\n",
    "# Запрос данных\n",
    "response = requests.get('https://randomuser.me/api/')\n",
    "data = response.json()\n",
    "\n",
    "# Преобразование в датафрейм\n",
    "df = pd.json_normalize(data)  # Преобразуем JSON в табличный вид\n",
    "\n",
    "# Генерация html\n",
    "html_content = df.to_html(index=False, border=1, justify=\"center\", classes=\"table\")\n",
    "\n",
    "# Сохранение файла\n",
    "with open('sixth_task_solve.html', \"w\", encoding=\"utf-8\") as file:\n",
    "    file.write(html_content)"
   ]
  }
 ],
 "metadata": {
  "kernelspec": {
   "display_name": "whytech",
   "language": "python",
   "name": "python3"
  },
  "language_info": {
   "codemirror_mode": {
    "name": "ipython",
    "version": 3
   },
   "file_extension": ".py",
   "mimetype": "text/x-python",
   "name": "python",
   "nbconvert_exporter": "python",
   "pygments_lexer": "ipython3",
   "version": "3.12.3"
  }
 },
 "nbformat": 4,
 "nbformat_minor": 2
}
